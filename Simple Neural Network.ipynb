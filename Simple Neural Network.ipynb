{
 "cells": [
  {
   "cell_type": "code",
   "execution_count": 1,
   "metadata": {},
   "outputs": [
    {
     "name": "stdout",
     "output_type": "stream",
     "text": [
      "0.8500000000000001\n"
     ]
    }
   ],
   "source": [
    "weight = 0.1\n",
    "def neural_network(input, weight):\n",
    "    prediction = input * weight\n",
    "    return prediction\n",
    "\n",
    "number_of_toes = [8.5, 9.5, 10, 9]\n",
    "input = number_of_toes[0]\n",
    "pred = neural_network(input, weight)\n",
    "\n",
    "print(pred)"
   ]
  },
  {
   "cell_type": "code",
   "execution_count": 4,
   "metadata": {},
   "outputs": [
    {
     "name": "stdout",
     "output_type": "stream",
     "text": [
      "0.9800000000000001\n"
     ]
    }
   ],
   "source": [
    "def w_sum(a, b):\n",
    "    assert(len(a) == len(b))\n",
    "    \n",
    "    output = 0\n",
    "    \n",
    "    for i in range(len(a)):\n",
    "        output += (a[i] * b[i])\n",
    "        \n",
    "    return output\n",
    "\n",
    "\n",
    "def neural_network(input, weights):\n",
    "    pred = w_sum(input, weights)\n",
    "    return pred\n",
    "\n",
    "\n",
    "weights = [0.1, 0.2, 0]\n",
    "\n",
    "toes = [8.5, 9.5, 9.9, 9.0]\n",
    "wlrec = [0.65, 0.8, 0.8, 0.9]\n",
    "nfans = [1.2, 1.3, 0.5, 1.0]\n",
    "\n",
    "input = [toes[0], wlrec[0], nfans[0]]\n",
    "pred = neural_network(input, weights)\n",
    "print(pred)"
   ]
  },
  {
   "cell_type": "code",
   "execution_count": 5,
   "metadata": {},
   "outputs": [
    {
     "name": "stdout",
     "output_type": "stream",
     "text": [
      "0.9800000000000001\n"
     ]
    }
   ],
   "source": [
    "import numpy as np\n",
    "\n",
    "weights = np.array([0.1, 0.2, 0])\n",
    "def neural_network(input, weights):\n",
    "    pred = input.dot(weights) # Vectors multiplications with dots data\n",
    "    return pred\n",
    "\n",
    "toes = np.array([8.5, 9.5, 9.9, 9.0])\n",
    "wlrec = np.array([0.65, 0.8, 0.8, 0.9])\n",
    "nfans = np.array([1.2, 1.3, 0.5, 1.0])\n",
    "\n",
    "input = np.array([toes[0], wlrec[0], nfans[0]])\n",
    "pred = neural_network(input, weights)\n",
    "print(pred)"
   ]
  },
  {
   "cell_type": "code",
   "execution_count": 8,
   "metadata": {},
   "outputs": [
    {
     "name": "stdout",
     "output_type": "stream",
     "text": [
      "[0.195, 0.13, 0.5850000000000001]\n"
     ]
    }
   ],
   "source": [
    "weights = [0.3, 0.2, 0.9]\n",
    "\n",
    "\n",
    "def ele_mul(number, vector):\n",
    "    output = [0, 0, 0]\n",
    "    assert(len(output) == len(vector))\n",
    "    for i in range(len(vector)):\n",
    "        output[i] = number * vector[i]\n",
    "        \n",
    "    return output\n",
    "\n",
    "\n",
    "def neural_network(input, weights):\n",
    "    pred = ele_mul(input, weights)\n",
    "    return pred\n",
    "\n",
    "\n",
    "wlrec = [0.65, 0.8, 0.8, 0.9]\n",
    "input = wlrec[0]\n",
    "pred = neural_network(input, weights)\n",
    "print(pred)"
   ]
  },
  {
   "cell_type": "code",
   "execution_count": 11,
   "metadata": {},
   "outputs": [
    {
     "name": "stdout",
     "output_type": "stream",
     "text": [
      "[0.555, 0.9800000000000001, 0.9650000000000001]\n"
     ]
    }
   ],
   "source": [
    "weights = [\n",
    "    [0.1, 0.1, -0.3],\n",
    "    [0.1, 0.2, 0.0],\n",
    "    [0.0, 1.3, 0.1]\n",
    "]\n",
    "\n",
    "\n",
    "def w_sum(a, b):\n",
    "    assert(len(a) == len(b))\n",
    "    output = 0\n",
    "    for i in range(len(a)):\n",
    "        output += (a[i] * b[i])\n",
    "    return output\n",
    "\n",
    "\n",
    "def vect_mat_mul(vect, matrix):\n",
    "    assert(len(vect) == len(matrix))\n",
    "    output = [0, 0, 0]\n",
    "    for i in range(len(vect)):\n",
    "        output[i] = w_sum(vect, matrix[i])\n",
    "    return output\n",
    "\n",
    "\n",
    "def neural_network(input, weights):\n",
    "    pred = vect_mat_mul(input, weights)\n",
    "    return pred\n",
    "\n",
    "toes = [8.5, 9.5, 9.9, 9.0]\n",
    "wlrec = [0.65, 0.8, 0.8, 0.9]\n",
    "nfans = [1.2, 1.3, 0.5, 1.0]\n",
    "\n",
    "input = [toes[0], wlrec[0], nfans[0]]\n",
    "\n",
    "pred = neural_network(input, weights)\n",
    "print(pred)"
   ]
  },
  {
   "cell_type": "code",
   "execution_count": 12,
   "metadata": {},
   "outputs": [
    {
     "name": "stdout",
     "output_type": "stream",
     "text": [
      "[2.905, 0.9800000000000001, 0.9650000000000001]\n"
     ]
    }
   ],
   "source": [
    "ih_wgt = [\n",
    "    # toes  %wins #fans\n",
    "    [ 0.1,  0.2,  -0.1 ], # hid[0]\n",
    "    [ -0.1, 0.1,  0.9  ], # hid[1]\n",
    "    [ 0.1,  0.4,  0.1  ]  # hid[2]\n",
    "]\n",
    "\n",
    "hp_wgt = [\n",
    "    # hid[0]  hid[1]  hid[2]\n",
    "    [ 0.3,    1.1,    -0.3 ], # hurt?\n",
    "    [ 0.1,    0.2,    0.0  ], # win?\n",
    "    [ 0.0,    1.3,    0.1  ]  # sad?\n",
    "]\n",
    "\n",
    "weights = [ih_wgt, hp_wgt]\n",
    "toes = [8.5, 9.5, 9.9, 9.0]\n",
    "wlrec = [0.65, 0.8, 0.8, 0.9]\n",
    "nfans = [1.2, 1.3, 0.5, 1.0]\n",
    "\n",
    "input = [toes[0], wlrec[0], nfans[0]]\n",
    "\n",
    "\n",
    "def neural_network(input, weights):\n",
    "    hid = vect_mat_mul(input, weights[0])\n",
    "    pred = vect_mat_mul(input, weights[1])\n",
    "    return pred\n",
    "\n",
    "pred = neural_network(input, weights)\n",
    "print(pred)"
   ]
  },
  {
   "cell_type": "code",
   "execution_count": 13,
   "metadata": {},
   "outputs": [
    {
     "name": "stdout",
     "output_type": "stream",
     "text": [
      "[ 0.496  1.256 -0.286]\n"
     ]
    }
   ],
   "source": [
    "# NymPy version\n",
    "import numpy as np\n",
    "ih_wgt = np.array([\n",
    "    # toes  %wins #fans\n",
    "    [ 0.1,  0.2,  -0.1 ], # hid[0]\n",
    "    [ -0.1, 0.1,  0.9  ], # hid[1]\n",
    "    [ 0.1,  0.4,  0.1  ]  # hid[2]\n",
    "])\n",
    "\n",
    "hp_wgt = np.array([\n",
    "    # hid[0]  hid[1]  hid[2]\n",
    "    [ 0.3,    1.1,    -0.3 ], # hurt?\n",
    "    [ 0.1,    0.2,    0.0  ], # win?\n",
    "    [ 0.0,    1.3,    0.1  ]  # sad?\n",
    "])\n",
    "\n",
    "weights = [ih_wgt, hp_wgt]\n",
    "\n",
    "def neural_network(input, weights):\n",
    "    hid = input.dot(weights[0])\n",
    "    pred = hid.dot(weights[1])\n",
    "    return pred\n",
    "\n",
    "\n",
    "toes = np.array([8.5, 9.5, 9.9, 9.0])\n",
    "wlrec = np.array([0.65, 0.8, 0.8, 0.9])\n",
    "nfans = np.array([1.2, 1.3, 0.5, 1.0])\n",
    "\n",
    "input = np.array([toes[0], wlrec[0], nfans[0]])\n",
    "\n",
    "pred = neural_network(input, weights)\n",
    "print(pred)"
   ]
  },
  {
   "cell_type": "code",
   "execution_count": 26,
   "metadata": {},
   "outputs": [
    {
     "name": "stdout",
     "output_type": "stream",
     "text": [
      "[0 1 2 3]\n",
      "[4 5 6 7]\n",
      "[[0 1 2 3]\n",
      " [4 5 6 7]]\n",
      "[[0. 0. 0. 0.]\n",
      " [0. 0. 0. 0.]]\n",
      "[[2.73782106e-01 8.17854817e-01 2.03774148e-02 1.23718447e-04\n",
      "  4.89054862e-01]\n",
      " [2.24905286e-02 1.24011332e-01 9.75391165e-01 6.80182837e-01\n",
      "  7.07576968e-01]]\n",
      "---------\n",
      "[0.  0.1 0.2 0.3]\n",
      "[[0.  0.2 0.4 0.6]\n",
      " [0.8 1.  1.2 1.4]]\n",
      "[ 0  5 12 21]\n",
      "[0.  1.  2.4 4.2]\n",
      "[[ 0  1  4  9]\n",
      " [ 0  5 12 21]]\n",
      "---------------------------\n",
      "(1, 3)\n",
      "---------------------------\n",
      "---> Three (2, 3)\n",
      "---> Six (2, 3)\n",
      "---> Nine (4, 6)\n"
     ]
    },
    {
     "ename": "ValueError",
     "evalue": "shapes (5,4) and (5,6) not aligned: 4 (dim 1) != 5 (dim 0)",
     "output_type": "error",
     "traceback": [
      "\u001b[0;31m---------------------------------------------------------------------------\u001b[0m",
      "\u001b[0;31mValueError\u001b[0m                                Traceback (most recent call last)",
      "\u001b[0;32m<ipython-input-26-c20ddbe99cac>\u001b[0m in \u001b[0;36m<module>\u001b[0;34m\u001b[0m\n\u001b[1;32m     62\u001b[0m \u001b[0mten\u001b[0m \u001b[0;34m=\u001b[0m \u001b[0mnp\u001b[0m\u001b[0;34m.\u001b[0m\u001b[0mzeros\u001b[0m\u001b[0;34m(\u001b[0m\u001b[0;34m(\u001b[0m\u001b[0;36m5\u001b[0m\u001b[0;34m,\u001b[0m \u001b[0;36m4\u001b[0m\u001b[0;34m)\u001b[0m\u001b[0;34m)\u001b[0m\u001b[0;34m\u001b[0m\u001b[0m\n\u001b[1;32m     63\u001b[0m \u001b[0meleven\u001b[0m \u001b[0;34m=\u001b[0m \u001b[0mnp\u001b[0m\u001b[0;34m.\u001b[0m\u001b[0mzeros\u001b[0m\u001b[0;34m(\u001b[0m\u001b[0;34m(\u001b[0m\u001b[0;36m5\u001b[0m\u001b[0;34m,\u001b[0m \u001b[0;36m6\u001b[0m\u001b[0;34m)\u001b[0m\u001b[0;34m)\u001b[0m\u001b[0;34m\u001b[0m\u001b[0m\n\u001b[0;32m---> 64\u001b[0;31m \u001b[0mtwelve\u001b[0m \u001b[0;34m=\u001b[0m \u001b[0mten\u001b[0m\u001b[0;34m.\u001b[0m\u001b[0mdot\u001b[0m\u001b[0;34m(\u001b[0m\u001b[0meleven\u001b[0m\u001b[0;34m)\u001b[0m\u001b[0;34m\u001b[0m\u001b[0m\n\u001b[0m\u001b[1;32m     65\u001b[0m \u001b[0mprint\u001b[0m\u001b[0;34m(\u001b[0m\u001b[0;34m'---> Twelve'\u001b[0m\u001b[0;34m,\u001b[0m \u001b[0mtwelve\u001b[0m\u001b[0;34m.\u001b[0m\u001b[0mshape\u001b[0m\u001b[0;34m)\u001b[0m \u001b[0;31m# Throws an error\u001b[0m\u001b[0;34m\u001b[0m\u001b[0m\n",
      "\u001b[0;31mValueError\u001b[0m: shapes (5,4) and (5,6) not aligned: 4 (dim 1) != 5 (dim 0)"
     ]
    }
   ],
   "source": [
    "# NumPy transformations\n",
    "import numpy as np\n",
    "a = np.array([0, 1, 2, 3]) # A Vector\n",
    "b = np.array([4, 5, 6, 7]) # Another Vector\n",
    "c = np.array([\n",
    "    [0, 1, 2, 3],\n",
    "    [4, 5, 6, 7]\n",
    "]) # A Matrix\n",
    "d = np.zeros((2, 4)) # 2 x 4 matrix of zeros\n",
    "e = np.random.rand(2, 5) # Random 2 x 5 matrix of numbers between 0 and 1\n",
    "\n",
    "# Creating matrix - remember the next: rows come first, columns - second\n",
    "# (rows, columns)\n",
    "\n",
    "print(a)\n",
    "print(b)\n",
    "print(c)\n",
    "print(d)\n",
    "print(e)\n",
    "print('---------')\n",
    "print(a * 0.1) # Multiplies every number in vector a by 0.1\n",
    "print(c * 0.2) # Multiplies every number in matrix c by 0.2\n",
    "print(a * b) # Multiplies elemnetwise between a and b (columns paired)\n",
    "print(a * b * 0.2) # Multiplies elementwise, then multiplies by 0.2\n",
    "print(a * c) # Performs elementwise multiplication on every row of matrix c,\n",
    "# because c has the same number of columns as a\n",
    "\n",
    "# print(a * e) # Because a and e don't have the same number of columns,\n",
    "# this throws \"Value Error: operands could not be broadcast together with...\"\n",
    "\n",
    "print('---------------------------')\n",
    "\n",
    "ab = np.zeros((1, 4))\n",
    "bc = np.zeros((4, 3))\n",
    "\n",
    "cd = ab.dot(bc) # Vector of length 4\n",
    "print(cd.shape) # Matrix with 1 row and 3 columns\n",
    "\n",
    "# The shape (number of rows and columns) must be line up. The columns of the\n",
    "# left matrix must equal the rows on the right, such that\n",
    "# (a, b).dot(b, c) = (a, c)\n",
    "\n",
    "print('---------------------------')\n",
    "one = np.zeros((2, 4))\n",
    "two = np.zeros((4, 3))\n",
    "three = one.dot(two)\n",
    "print('---> Three', three.shape) # (2,3)\n",
    "\n",
    "\n",
    "four = np.zeros((2, 1))\n",
    "five = np.zeros((1, 3))\n",
    "six = four.dot(five) # (2, 3)\n",
    "print('---> Six', six.shape)\n",
    "\n",
    "\n",
    "seven = np.zeros((5, 4)).T # .T flips the rows and columns of a matrix\n",
    "eight = np.zeros((5, 6))\n",
    "nine = seven.dot(eight) # (4, 6)\n",
    "print('---> Nine', nine.shape)\n",
    "\n",
    "\n",
    "# ten = np.zeros((5, 4))\n",
    "# eleven = np.zeros((5, 6))\n",
    "# twelve = ten.dot(eleven)\n",
    "# print('---> Twelve', twelve.shape) # Throws an error\n"
   ]
  },
  {
   "cell_type": "code",
   "execution_count": null,
   "metadata": {},
   "outputs": [],
   "source": []
  }
 ],
 "metadata": {
  "kernelspec": {
   "display_name": "Python 3",
   "language": "python",
   "name": "python3"
  },
  "language_info": {
   "codemirror_mode": {
    "name": "ipython",
    "version": 3
   },
   "file_extension": ".py",
   "mimetype": "text/x-python",
   "name": "python",
   "nbconvert_exporter": "python",
   "pygments_lexer": "ipython3",
   "version": "3.5.2"
  }
 },
 "nbformat": 4,
 "nbformat_minor": 2
}
